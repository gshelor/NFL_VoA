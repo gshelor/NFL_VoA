{
 "cells": [
  {
   "cell_type": "markdown",
   "metadata": {},
   "source": [
    "Griffin Shelor\\\n",
    "25-9-2024\\\n",
    "Lab 4"
   ]
  },
  {
   "cell_type": "markdown",
   "metadata": {},
   "source": []
  },
  {
   "cell_type": "code",
   "execution_count": 1,
   "metadata": {},
   "outputs": [
    {
     "name": "stdout",
     "output_type": "stream",
     "text": [
      "5\n",
      "4\n",
      "3\n",
      "2\n",
      "1\n",
      "Let's go!\n",
      "Oh, and Hello World!\n"
     ]
    }
   ],
   "source": []
  },
  {
   "cell_type": "markdown",
   "metadata": {},
   "source": [
    "2"
   ]
  },
  {
   "cell_type": "code",
   "execution_count": 4,
   "metadata": {},
   "outputs": [
    {
     "name": "stdout",
     "output_type": "stream",
     "text": [
      "/Users/gshelor/Documents/GEOG607\n",
      "2\n",
      "2.5\n",
      "What better way is there to spend a Monday afternoon What better way is there to spend a Wednesday afternoon?\n",
      "What better way is there to spend a Monday afternoon ?  What better way is there to spend a Wednesday afternoon? ?!  I hope we keep doing this in October!\n",
      "What better way is there to spend a Wednesday afternoon?   What better way is there to spend a Monday afternoon\n",
      "What better way is there to spend a Monday afternoon? What better way is there to spend a Wednesday afternoon?\n"
     ]
    }
   ],
   "source": [
    "# If you want to check your current working directory, enter this command\n",
    "import os as o\n",
    "cwd = o.getcwd()\n",
    "print (cwd)\n",
    "# If you ever need to change your working directory, you can refer back to this\n",
    "# and do so as follows - no need to now in this workshop, but it may come up\n",
    "# in your future work\n",
    "# o.chdir('set the directory here') #Anyone see the issue? So let's fix it:\n",
    "# work together to fix and set directory here\n",
    "# Data Basics - Constants\n",
    "# You can set a constant value that is assigned to a variable, as follows:\n",
    "# 1) Numeric Constants are entered by entering either float or integer data\n",
    "# 2) Print statements are really helpful when they report what's happening\n",
    "# at certain points in your code, report outputs for users, and\n",
    "# they help you diagnose what's going on in your code wherever you like.\n",
    "# In 3.x, they require parenthesis, but this is not the case with 2.7\n",
    "# So, if you're using an older system, such as arcpy/Python 2.7,\n",
    "##you would call print statements using:\n",
    "#### print my_var ####\n",
    "my_var = 2\n",
    "print (my_var)\n",
    "my_other_var = 2.5\n",
    "print (my_other_var)\n",
    "\n",
    "# You can call a constant that is a string - these are designated\n",
    "# by EITHER single or double quotes\n",
    "true = \"What better way is there to spend a Monday afternoon\"\n",
    "alsotrue = 'What better way is there to spend a Wednesday afternoon?'\n",
    "# You can work with different data types in print statements. Commas can be used\n",
    "# to separate values, but this does carry consequences\n",
    "print (true,alsotrue)\n",
    "print (true,\"? \", alsotrue,\"?! \", \"I hope we keep doing this in October!\")\n",
    "print (alsotrue, \" \", true) # Good editors will catch syntax errors like this for you\n",
    "# The operation above involved concatenation of strings in a print statement :\n",
    "print (true + \"? \" + alsotrue)\n",
    "x = true + \"? \" + alsotrue\n",
    "# A variable is a named place in memory where we\n",
    "# store data and later retrieve the data using the variable, through its asssigned name\n",
    "# You can call the variable whatever you want, but choose a name that makes sense\n",
    "# However, variables must start with a letter or underscore\n",
    "# They also are case-sensitive\n",
    "# Don't use Python's reserved words either (if, else, and, etc.)"
   ]
  },
  {
   "cell_type": "markdown",
   "metadata": {},
   "source": [
    "3"
   ]
  },
  {
   "cell_type": "code",
   "execution_count": 7,
   "metadata": {},
   "outputs": [
    {
     "name": "stdout",
     "output_type": "stream",
     "text": [
      "Elevation: 7734 feet, 2357 meters\n",
      "Baboquivari Peak, Arizona\n",
      "Babo\n",
      "4\n",
      "-1\n",
      "Baboquivari Peak \n",
      " Baboquivari Peak\n",
      "Baboquivari Peak\n"
     ]
    }
   ],
   "source": [
    "# String Data are immutable - that means we can't change them (can't change contents)\n",
    "# We have to create a new string to make changes\n",
    "# Working with string data - starting with an iconic southern Arizona peak\n",
    "mountain = 'Baboquivari'\n",
    "# Some classic shots of it - and a hint at opening a web browswer at a certain location\n",
    "import webbrowser\n",
    "EastSide = webbrowser.open('https://hikearizona.com/photo.php?ZIP=91669')\n",
    "WestSide = webbrowser.open('https://www.mountainproject.com/photo/109613206')\n",
    "# See, pretty cool mountain, isn't it? Onwards...\n",
    "# Let's have a website that already stores its elevation and\n",
    "# name and read those values as strings.\n",
    "# This is an example of simple \"web scraping\"\n",
    "import urllib.request\n",
    "from bs4 import BeautifulSoup\n",
    "peak_page = 'https://www.peakbagger.com/peak.aspx?pid=4157'\n",
    "page = urllib.request.urlopen(peak_page)\n",
    "soup = BeautifulSoup(page, 'html.parser')\n",
    "find_elev = soup.find('h2')\n",
    "find_name = soup.find('h1')\n",
    "ElevValue = find_elev.text.strip()\n",
    "NameString = find_name.text.strip()\n",
    "print(ElevValue)\n",
    "print(NameString)\n",
    "############################################################\n",
    "#Or, as some refer to it\n",
    "notitsname = NameString[0:4]\n",
    "print(notitsname)\n",
    "#Enter this command in interactive mode to see the string library\n",
    "dir(NameString)\n",
    "# Use the find command\n",
    "pos = NameString.find('qu')\n",
    "print(pos)\n",
    "aa = NameString.find('Bq')\n",
    "print(aa)\n",
    "# Using the strip function to remove whitespace\n",
    "bestmountain = ' Baboquivari Peak '\n",
    "print(bestmountain.lstrip())\n",
    "print(bestmountain.rstrip())\n",
    "print(bestmountain.strip())"
   ]
  },
  {
   "cell_type": "markdown",
   "metadata": {},
   "source": [
    "4"
   ]
  },
  {
   "cell_type": "code",
   "execution_count": 9,
   "metadata": {},
   "outputs": [
    {
     "name": "stdout",
     "output_type": "stream",
     "text": [
      "13.066666666666666\n",
      "2\n",
      "3.3333333333333335\n",
      "1.5714285714285714\n",
      "1.6\n",
      "1.571\n",
      "1.6 4.57\n",
      "Feet: 183.7\n",
      "T\n",
      "h\n",
      "i\n",
      "s\n",
      " \n",
      "i\n",
      "s\n",
      " \n",
      "m\n",
      "y\n",
      " \n",
      "s\n",
      "e\n",
      "n\n",
      "t\n",
      "e\n",
      "n\n",
      "c\n",
      "e\n",
      "T\n",
      "e\n",
      " \n",
      "This\n",
      "sentenc\n",
      "sentence\n",
      "This\n"
     ]
    }
   ],
   "source": [
    "# Python works with numeric data in specific ways\n",
    "# First, it works under the PEMDAS workflow\n",
    "# Second, here are your operators\n",
    "# +, -, *, /, **, %\n",
    "# addition, subtraction, multiplication, division, exponent, remainder\n",
    "a = 5 + 11 ** 2 / (3 * 5)\n",
    "print (a)\n",
    "remain = 20 % 3\n",
    "print (remain)\n",
    "# Be aware that in Python 2.7, integer division produces an integer:\n",
    "# e.g., 10/3 = 3. This changed in 3.x. You can change to an integer if you want\n",
    "print (10/3)\n",
    "d = (10/2)\n",
    "int(d)\n",
    "x = 11/7\n",
    "type(x) # The type function is helpful to use to assess data type, and therefore, allowable operations\n",
    "print (str(x)) # You can convert, but it may not look great\n",
    "print ('%.1f' % x) # This is a string formatting operator\n",
    "# Another version\n",
    "print ('%.3f' % x)\n",
    "# Multiple operators\n",
    "y = 4.56788983\n",
    "print ('%.1f' % x, '%.2f' % y)\n",
    "# Addition, subtraction, and multiplication of integers produce integers, though\n",
    "y = 4 + 7\n",
    "type(y)\n",
    "z = 4 * 7\n",
    "type (z)\n",
    "# You can also get user input as follows using the input function\n",
    "x = input('Enter an elevation in meters:')\n",
    "feet = float(x) * 3.28084\n",
    "print ('Feet: ' '%.1f' % feet)\n",
    "############\n",
    "# Accessing Index Values\n",
    "###########\n",
    "# This is a pretty handy way to get at elements within data\n",
    "x = 'This is my sentence'\n",
    "# Explore the index position of each characters using a simple definite loop:\n",
    "for i in x:\n",
    "    print (i)\n",
    "print (x[0]) # This index position is the first in the ordered sequence\n",
    "print (x[-1]) # This gets at the last value\n",
    "print (x[4]) # Note that any character counts, including spaces\n",
    "# You can also call a range of values\n",
    "print (x[0:4]) # Of note - the upper boundary is NOT included in the return\n",
    "print (x[-8:-1]) # Notice how the upper boundary came into play here\n",
    "print (x[-8:]) # That's better - this includes all characters past the 'slice'\n",
    "print (x[:4]) # Same in the other direction"
   ]
  }
 ],
 "metadata": {
  "kernelspec": {
   "display_name": "snowthesis",
   "language": "python",
   "name": "python3"
  },
  "language_info": {
   "codemirror_mode": {
    "name": "ipython",
    "version": 3
   },
   "file_extension": ".py",
   "mimetype": "text/x-python",
   "name": "python",
   "nbconvert_exporter": "python",
   "pygments_lexer": "ipython3",
   "version": "3.12.4"
  }
 },
 "nbformat": 4,
 "nbformat_minor": 2
}
